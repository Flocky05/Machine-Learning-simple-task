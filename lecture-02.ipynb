{
 "cells": [
  {
   "cell_type": "markdown",
   "id": "10614826",
   "metadata": {},
   "source": [
    "# List\n"
   ]
  },
  {
   "cell_type": "code",
   "execution_count": 4,
   "id": "3d2bd279",
   "metadata": {},
   "outputs": [
    {
     "name": "stdout",
     "output_type": "stream",
     "text": [
      "[1, 2, 3, 4, 5]\n"
     ]
    },
    {
     "data": {
      "text/plain": [
       "list"
      ]
     },
     "execution_count": 4,
     "metadata": {},
     "output_type": "execute_result"
    }
   ],
   "source": [
    "x=[1,2,3,4,5]\n",
    "print(x)\n",
    "type(x)\n"
   ]
  },
  {
   "cell_type": "code",
   "execution_count": 14,
   "id": "6a5f41a7",
   "metadata": {},
   "outputs": [
    {
     "name": "stdout",
     "output_type": "stream",
     "text": [
      "english\n",
      "9\n",
      "[1, 2, 3, 4, 5, 'english', True, 1, 2.4, 68]\n",
      "[1, 2, 3, 4, 5, 'english', True, 1, 2.4, 68, 0, 1, 2, 3, 4]\n"
     ]
    }
   ],
   "source": [
    "x=[1,2,3,4,5,\"english\",True,1,2.4]\n",
    "print(x[5])\n",
    "print(len(x))\n",
    "x.append(68)\n",
    "print(x)\n",
    "y=[0,1,2,3,4]\n",
    "print(x+y)"
   ]
  },
  {
   "cell_type": "markdown",
   "id": "b791aa34",
   "metadata": {},
   "source": [
    "# Tuple"
   ]
  },
  {
   "cell_type": "code",
   "execution_count": 3,
   "id": "8db41ce6",
   "metadata": {},
   "outputs": [
    {
     "name": "stdout",
     "output_type": "stream",
     "text": [
      "(1, 2, 3, 4, 5)\n"
     ]
    },
    {
     "data": {
      "text/plain": [
       "tuple"
      ]
     },
     "execution_count": 3,
     "metadata": {},
     "output_type": "execute_result"
    }
   ],
   "source": [
    "#Tuple used frist bracket and it is immutabel\n",
    "tuple_1=(1,2,3,4,5)\n",
    "print(tuple_1)\n",
    "type(tuple_1)"
   ]
  },
  {
   "cell_type": "code",
   "execution_count": 6,
   "id": "5300f969",
   "metadata": {},
   "outputs": [
    {
     "name": "stdout",
     "output_type": "stream",
     "text": [
      "(1, 2, 3, 4, 'Machine Learning', True)\n"
     ]
    }
   ],
   "source": [
    "#tuple used multiple type data at a time\n",
    "tuple_2=(1,2,3,4,\"Machine Learning\",True)\n",
    "print(tuple_2)"
   ]
  },
  {
   "cell_type": "code",
   "execution_count": 7,
   "id": "2acaf8cb",
   "metadata": {},
   "outputs": [
    {
     "name": "stdout",
     "output_type": "stream",
     "text": [
      "[1, 2, 3, 4, 'english']\n",
      "(1, 2, 3, 4, 'english')\n"
     ]
    }
   ],
   "source": [
    "#conversion list to tuple\n",
    "my_list=[1,2,3,4,\"english\"]\n",
    "print(my_list)\n",
    "my_tuple=tuple(my_list)\n",
    "print(my_tuple)"
   ]
  },
  {
   "cell_type": "markdown",
   "id": "4cd4d6a1",
   "metadata": {},
   "source": [
    "\n",
    "my_tuple=(\"wood apple\",\"mango\",\"lady fingure\")\n",
    "my_list=list(my_tuple)\n",
    "print(my_list)"
   ]
  },
  {
   "cell_type": "code",
   "execution_count": 9,
   "id": "1f90c1bb",
   "metadata": {},
   "outputs": [],
   "source": [
    "#As it is immuateble so we can not chagne the value that means we can not added any value"
   ]
  },
  {
   "cell_type": "markdown",
   "id": "0a21d8e2",
   "metadata": {},
   "source": [
    "# Set"
   ]
  },
  {
   "cell_type": "code",
   "execution_count": 13,
   "id": "81f755cb",
   "metadata": {},
   "outputs": [
    {
     "name": "stdout",
     "output_type": "stream",
     "text": [
      "{2, 3, 4, 5}\n",
      "{2, 3, 4, 5, 20}\n"
     ]
    }
   ],
   "source": [
    "#set used for carly bracket and set don't show redandent value\n",
    "my_set={2,2,3,4,5}\n",
    "print(my_set)\n",
    "type(my_set)\n",
    "my_set.add(20)\n",
    "print()"
   ]
  },
  {
   "cell_type": "markdown",
   "id": "afe79f41",
   "metadata": {},
   "source": [
    "# Dictionary"
   ]
  },
  {
   "cell_type": "code",
   "execution_count": 14,
   "id": "207325a7",
   "metadata": {},
   "outputs": [],
   "source": [
    "#It is used like js object you can access it any way"
   ]
  },
  {
   "cell_type": "code",
   "execution_count": 19,
   "id": "86086146",
   "metadata": {},
   "outputs": [
    {
     "name": "stdout",
     "output_type": "stream",
     "text": [
      "{'name': 'Rakibul', 'age': 24, 'country': 'Bangladesh'}\n",
      "24\n"
     ]
    }
   ],
   "source": [
    "my_dictionary={'name':'Rakibul','age':24,'country':'Bangladesh'}\n",
    "print(my_dictionary);\n",
    "print(my_dictionary[\"age\"])"
   ]
  },
  {
   "cell_type": "code",
   "execution_count": 20,
   "id": "f03c80ef",
   "metadata": {},
   "outputs": [],
   "source": [
    "#dictionary aslo don't support redundent value\n"
   ]
  },
  {
   "cell_type": "markdown",
   "id": "f2c25dc6",
   "metadata": {},
   "source": [
    "# import numpy as np\n"
   ]
  },
  {
   "cell_type": "code",
   "execution_count": null,
   "id": "3f7d3905",
   "metadata": {},
   "outputs": [],
   "source": [
    "#import nu\n",
    "from time import process_time"
   ]
  },
  {
   "cell_type": "code",
   "execution_count": 22,
   "id": "bebd7880",
   "metadata": {},
   "outputs": [
    {
     "name": "stdout",
     "output_type": "stream",
     "text": [
      "0.0\n"
     ]
    }
   ],
   "source": [
    "python_list=[i for i in range(10000)]\n",
    "start_time=process_time()\n",
    "python_list =[i+5 for i in python_list]\n",
    "end_time=process_time()\n",
    "print(end_time-start_time)"
   ]
  },
  {
   "cell_type": "code",
   "execution_count": 24,
   "id": "6e37ef96",
   "metadata": {},
   "outputs": [
    {
     "name": "stdout",
     "output_type": "stream",
     "text": [
      "[1 2 3 4 5]\n"
     ]
    },
    {
     "data": {
      "text/plain": [
       "numpy.ndarray"
      ]
     },
     "execution_count": 24,
     "metadata": {},
     "output_type": "execute_result"
    }
   ],
   "source": [
    "#Numpy Array\n",
    "np_array=np.array([1,2,3,4,5])\n",
    "print(np_array)\n",
    "type(np_array)"
   ]
  },
  {
   "cell_type": "code",
   "execution_count": 25,
   "id": "763f0d0b",
   "metadata": {},
   "outputs": [
    {
     "data": {
      "text/plain": [
       "(4,)"
      ]
     },
     "execution_count": 25,
     "metadata": {},
     "output_type": "execute_result"
    }
   ],
   "source": [
    "#create 1d array \n",
    "a=np.array([1,2,3,4])\n",
    "a.shape"
   ]
  },
  {
   "cell_type": "code",
   "execution_count": 36,
   "id": "8ec48876",
   "metadata": {},
   "outputs": [
    {
     "name": "stdout",
     "output_type": "stream",
     "text": [
      "[[1 2 3 4]\n",
      " [2 3 4 5]]\n"
     ]
    },
    {
     "data": {
      "text/plain": [
       "(2, 4)"
      ]
     },
     "execution_count": 36,
     "metadata": {},
     "output_type": "execute_result"
    }
   ],
   "source": [
    "#create 2d array using numphy\n",
    "b= np.array([(1,2,3,4),(2,3,4,5)])\n",
    "print(b)\n",
    "b.shape"
   ]
  },
  {
   "cell_type": "code",
   "execution_count": 40,
   "id": "322bcab4",
   "metadata": {},
   "outputs": [
    {
     "name": "stdout",
     "output_type": "stream",
     "text": [
      "[[0. 0. 0. 0. 0.]\n",
      " [0. 0. 0. 0. 0.]\n",
      " [0. 0. 0. 0. 0.]\n",
      " [0. 0. 0. 0. 0.]]\n"
     ]
    }
   ],
   "source": [
    "#creating a numpy array of zeros\n",
    "c=np.zeros((4,5))\n",
    "print(c)"
   ]
  },
  {
   "cell_type": "code",
   "execution_count": 41,
   "id": "1c7bc7be",
   "metadata": {},
   "outputs": [
    {
     "data": {
      "text/plain": [
       "array([[1., 0., 0., 0., 0.],\n",
       "       [0., 1., 0., 0., 0.],\n",
       "       [0., 0., 1., 0., 0.],\n",
       "       [0., 0., 0., 1., 0.],\n",
       "       [0., 0., 0., 0., 1.]])"
      ]
     },
     "execution_count": 41,
     "metadata": {},
     "output_type": "execute_result"
    }
   ],
   "source": [
    "#create an iddentity matrix\n",
    "a=np.eye(5)\n",
    "a"
   ]
  },
  {
   "cell_type": "code",
   "execution_count": 44,
   "id": "9a3e7d64",
   "metadata": {},
   "outputs": [
    {
     "name": "stdout",
     "output_type": "stream",
     "text": [
      "[[1 6 4]\n",
      " [9 3 5]\n",
      " [7 1 5]]\n",
      "[[13 15 13]\n",
      " [14 12 19]\n",
      " [14 13 19]]\n",
      "[[14 21 17]\n",
      " [23 15 24]\n",
      " [21 14 24]]\n",
      "[[-12  -9  -9]\n",
      " [ -5  -9 -14]\n",
      " [ -7 -12 -14]]\n",
      "[[ 13  90  52]\n",
      " [126  36  95]\n",
      " [ 98  13  95]]\n",
      "[[0.07692308 0.4        0.30769231]\n",
      " [0.64285714 0.25       0.26315789]\n",
      " [0.5        0.07692308 0.26315789]]\n"
     ]
    }
   ],
   "source": [
    "a = np.random.randint(0,10,(3,3))\n",
    "b = np.random.randint(10,20,(3,3))\n",
    "print(a)\n",
    "print(b)\n",
    "print(a+b)\n",
    "print(a-b)\n",
    "print(a*b)\n",
    "print(a/b)"
   ]
  },
  {
   "cell_type": "code",
   "execution_count": 48,
   "id": "342a3edf",
   "metadata": {},
   "outputs": [
    {
     "name": "stdout",
     "output_type": "stream",
     "text": [
      "[[1 6 4]\n",
      " [9 3 5]\n",
      " [7 1 5]]\n",
      "[[1 9 7]\n",
      " [6 3 1]\n",
      " [4 5 5]]\n",
      "(3, 3)\n",
      "[[ 1 54 28]\n",
      " [54  9  5]\n",
      " [28  5 25]]\n"
     ]
    }
   ],
   "source": [
    "#transpose\n",
    "trans=np.transpose(a)\n",
    "print(a)\n",
    "print(trans)\n",
    "print(trans.shape)\n",
    "print(np.multiply(a,trans))"
   ]
  },
  {
   "cell_type": "code",
   "execution_count": null,
   "id": "4596e201",
   "metadata": {},
   "outputs": [],
   "source": []
  }
 ],
 "metadata": {
  "kernelspec": {
   "display_name": "Python 3 (ipykernel)",
   "language": "python",
   "name": "python3"
  },
  "language_info": {
   "codemirror_mode": {
    "name": "ipython",
    "version": 3
   },
   "file_extension": ".py",
   "mimetype": "text/x-python",
   "name": "python",
   "nbconvert_exporter": "python",
   "pygments_lexer": "ipython3",
   "version": "3.9.13"
  }
 },
 "nbformat": 4,
 "nbformat_minor": 5
}
